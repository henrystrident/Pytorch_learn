{
 "cells": [
  {
   "cell_type": "markdown",
   "metadata": {},
   "source": [
    "# 二次函数的拟合"
   ]
  },
  {
   "cell_type": "markdown",
   "metadata": {},
   "source": [
    "经过上次的学习，明白了数据应该如何生成，以及简单的拟合一条直线。本次实验目的是拟合一条二次曲线，需要用到含有隐藏层的多层感知机。"
   ]
  },
  {
   "cell_type": "markdown",
   "metadata": {},
   "source": [
    "## 1.生成数据集"
   ]
  },
  {
   "cell_type": "code",
   "execution_count": 1,
   "metadata": {},
   "outputs": [
    {
     "data": {
      "image/png": "[encoded data removed]",
      "text/plain": [
       "<Figure size 432x288 with 1 Axes>"
      ]
     },
     "metadata": {
      "needs_background": "light"
     },
     "output_type": "display_data"
    }
   ],
   "source": [
    "import torch\n",
    "import numpy as np\n",
    "import torch.utils.data as data\n",
    "import matplotlib.pyplot as plt\n",
    "import torch.nn as nn\n",
    "import torch.optim as optim\n",
    "\n",
    "x = torch.linspace(-2, 2, 100)\n",
    "label = pow(x, 2) + 0.2*torch.rand(x.size())\n",
    "plt.scatter(x, label)\n",
    "plt.show()\n",
    "dataset = data.TensorDataset(x, label)\n",
    "data_iter = data.DataLoader(dataset=dataset,\n",
    "                            batch_size=10,\n",
    "                            shuffle=True)"
   ]
  },
  {
   "cell_type": "markdown",
   "metadata": {},
   "source": [
    "## 2.定义网络"
   ]
  },
  {
   "cell_type": "markdown",
   "metadata": {},
   "source": [
    "本次模型的原型是多层感知机，多层感知机含有多个隐藏层，每个隐藏层含有的神经元的个数也各不相同。由于拟合二次函数曲线较为简单，所以本次使用的模型只有一个隐藏层。除此之外，为了加强模型的非线性计算能力，在隐藏层的输出之后还需加入ReLu函数。Relu函数需要用torch.nn.functional实现。"
   ]
  },
  {
   "cell_type": "code",
   "execution_count": 2,
   "metadata": {},
   "outputs": [
    {
     "name": "stdout",
     "output_type": "stream",
     "text": [
      "Net(\n",
      "  (hidden): Linear(in_features=1, out_features=3, bias=True)\n",
      "  (predict): Linear(in_features=3, out_features=1, bias=True)\n",
      ")\n"
     ]
    }
   ],
   "source": [
    "import torch.nn.functional as F\n",
    "class Net(nn.Module):\n",
    "    def __init__(self, n_input, n_hidden, n_output):\n",
    "        super(Net, self).__init__()\n",
    "        self.hidden = nn.Linear(n_input, n_hidden)\n",
    "        self.predict = nn.Linear(n_hidden, n_output)\n",
    "\n",
    "    def forward(self, x):\n",
    "        hidden_output = F.relu(self.hidden(x))\n",
    "        predict = self.predict(hidden_output)\n",
    "        return predict\n",
    "    \n",
    "net = Net(1, 3, 1)\n",
    "print(net)"
   ]
  },
  {
   "cell_type": "markdown",
   "metadata": {},
   "source": [
    "## 3.训练过程"
   ]
  },
  {
   "cell_type": "markdown",
   "metadata": {},
   "source": [
    "训练100轮"
   ]
  },
  {
   "cell_type": "code",
   "execution_count": 3,
   "metadata": {},
   "outputs": [
    {
     "name": "stdout",
     "output_type": "stream",
     "text": [
      "epoch1, loss:2.0426316261291504\n",
      "epoch2, loss:0.5247153639793396\n",
      "epoch3, loss:0.9212309718132019\n",
      "epoch4, loss:0.9463000297546387\n",
      "epoch5, loss:0.6272024512290955\n",
      "epoch6, loss:0.5408734083175659\n",
      "epoch7, loss:1.605421781539917\n",
      "epoch8, loss:0.7800281643867493\n",
      "epoch9, loss:0.20855741202831268\n",
      "epoch10, loss:0.8772879838943481\n",
      "epoch11, loss:0.5478005409240723\n",
      "epoch12, loss:0.22607335448265076\n",
      "epoch13, loss:0.3503402769565582\n",
      "epoch14, loss:0.5092839002609253\n",
      "epoch15, loss:1.0018200874328613\n",
      "epoch16, loss:0.6322608590126038\n",
      "epoch17, loss:0.38768526911735535\n",
      "epoch18, loss:0.11496791988611221\n",
      "epoch19, loss:0.03793496638536453\n",
      "epoch20, loss:0.08394710719585419\n",
      "epoch21, loss:0.13984869420528412\n",
      "epoch22, loss:0.2533322870731354\n",
      "epoch23, loss:0.11188431084156036\n",
      "epoch24, loss:0.08998364955186844\n",
      "epoch25, loss:0.04302254319190979\n",
      "epoch26, loss:0.342175155878067\n",
      "epoch27, loss:0.06802567094564438\n",
      "epoch28, loss:0.07698068767786026\n",
      "epoch29, loss:0.08457573503255844\n",
      "epoch30, loss:0.1754191517829895\n",
      "epoch31, loss:0.06977392733097076\n",
      "epoch32, loss:0.09365519136190414\n",
      "epoch33, loss:0.12101826816797256\n",
      "epoch34, loss:0.0720311775803566\n",
      "epoch35, loss:0.22282016277313232\n",
      "epoch36, loss:0.19781380891799927\n",
      "epoch37, loss:0.08333414793014526\n",
      "epoch38, loss:0.21993312239646912\n",
      "epoch39, loss:0.04744182527065277\n",
      "epoch40, loss:0.09810304641723633\n",
      "epoch41, loss:0.20294877886772156\n",
      "epoch42, loss:0.02987498603761196\n",
      "epoch43, loss:0.09697456657886505\n",
      "epoch44, loss:0.05497252196073532\n",
      "epoch45, loss:0.03921831026673317\n",
      "epoch46, loss:0.07989439368247986\n",
      "epoch47, loss:0.041426561772823334\n",
      "epoch48, loss:0.11229745298624039\n",
      "epoch49, loss:0.043212126940488815\n",
      "epoch50, loss:0.03825852647423744\n",
      "epoch51, loss:0.05695578455924988\n",
      "epoch52, loss:0.04803317040205002\n",
      "epoch53, loss:0.0477350652217865\n",
      "epoch54, loss:0.1560022383928299\n",
      "epoch55, loss:0.04737614840269089\n",
      "epoch56, loss:0.03359145671129227\n",
      "epoch57, loss:0.06350263208150864\n",
      "epoch58, loss:0.06502737104892731\n",
      "epoch59, loss:0.03748665750026703\n",
      "epoch60, loss:0.10168321430683136\n",
      "epoch61, loss:0.05311967059969902\n",
      "epoch62, loss:0.07508956640958786\n",
      "epoch63, loss:0.07657381892204285\n",
      "epoch64, loss:0.023150723427534103\n",
      "epoch65, loss:0.021546801552176476\n",
      "epoch66, loss:0.02434147521853447\n",
      "epoch67, loss:0.059515565633773804\n",
      "epoch68, loss:0.04350591450929642\n",
      "epoch69, loss:0.09801658987998962\n",
      "epoch70, loss:0.02810550294816494\n",
      "epoch71, loss:0.056788939982652664\n",
      "epoch72, loss:0.1686217337846756\n",
      "epoch73, loss:0.07727185636758804\n",
      "epoch74, loss:0.08912793546915054\n",
      "epoch75, loss:0.045752961188554764\n",
      "epoch76, loss:0.1273910254240036\n",
      "epoch77, loss:0.1293429285287857\n",
      "epoch78, loss:0.07149022817611694\n",
      "epoch79, loss:0.053367145359516144\n",
      "epoch80, loss:0.05381125211715698\n",
      "epoch81, loss:0.05336567759513855\n",
      "epoch82, loss:0.033388055860996246\n",
      "epoch83, loss:0.15563802421092987\n",
      "epoch84, loss:0.027545198798179626\n",
      "epoch85, loss:0.05857255309820175\n",
      "epoch86, loss:0.04434192180633545\n",
      "epoch87, loss:0.04875624552369118\n",
      "epoch88, loss:0.08764665573835373\n",
      "epoch89, loss:0.062265295535326004\n",
      "epoch90, loss:0.01455418486148119\n",
      "epoch91, loss:0.10495425760746002\n",
      "epoch92, loss:0.05087776109576225\n",
      "epoch93, loss:0.07633280754089355\n",
      "epoch94, loss:0.05110948160290718\n",
      "epoch95, loss:0.023716431111097336\n",
      "epoch96, loss:0.060349464416503906\n",
      "epoch97, loss:0.0232701413333416\n",
      "epoch98, loss:0.06928621977567673\n",
      "epoch99, loss:0.03227885812520981\n",
      "epoch100, loss:0.04550188034772873\n"
     ]
    }
   ],
   "source": [
    "net = Net(1, 3, 1)\n",
    "\n",
    "criterion = nn.MSELoss()\n",
    "optimizer = optim.SGD(net.parameters(), lr=0.05)\n",
    "\n",
    "for epoch in range(100):\n",
    "    for input, y in data_iter:\n",
    "        optimizer.zero_grad()\n",
    "        prediction = net(input.view(10, -1))\n",
    "        loss = criterion(prediction, y.view(-1, 1))\n",
    "        loss.backward()\n",
    "        optimizer.step()\n",
    "    print('epoch{}, loss:{}'.format(epoch+1, loss))"
   ]
  }
 ],
 "metadata": {
  "kernelspec": {
   "display_name": "Python 3",
   "language": "python",
   "name": "python3"
  },
  "language_info": {
   "codemirror_mode": {
    "name": "ipython",
    "version": 3
   },
   "file_extension": ".py",
   "mimetype": "text/x-python",
   "name": "python",
   "nbconvert_exporter": "python",
   "pygments_lexer": "ipython3",
   "version": "3.7.3"
  }
 },
 "nbformat": 4,
 "nbformat_minor": 4
}
