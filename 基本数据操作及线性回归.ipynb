{
 "cells": [
  {
   "cell_type": "markdown",
   "metadata": {},
   "source": [
    "# 前言\n",
    "pytorch的使用方法，第一章学习的是pytorch中向量的输入，如何将普通数组转化为pytorch中的规定格式的数组。最后实现以下线性规划"
   ]
  },
  {
   "cell_type": "markdown",
   "metadata": {},
   "source": [
    "# 查看pytorch版本"
   ]
  },
  {
   "cell_type": "code",
   "execution_count": 1,
   "metadata": {},
   "outputs": [
    {
     "name": "stdout",
     "output_type": "stream",
     "text": [
      "1.4.0\n"
     ]
    }
   ],
   "source": [
    "import torch\n",
    "print(torch.__version__)"
   ]
  },
  {
   "cell_type": "markdown",
   "metadata": {},
   "source": [
    "# pytorch中的向量（Tensor）及其生成方式"
   ]
  },
  {
   "cell_type": "markdown",
   "metadata": {},
   "source": [
    "## 1.随机生成 "
   ]
  },
  {
   "cell_type": "code",
   "execution_count": 3,
   "metadata": {},
   "outputs": [
    {
     "name": "stdout",
     "output_type": "stream",
     "text": [
      "tensor([[0.9465, 0.3782, 0.7209, 0.2407, 0.0663],\n",
      "        [0.0568, 0.3566, 0.6090, 0.6453, 0.0935],\n",
      "        [0.1504, 0.4756, 0.9978, 0.7952, 0.0228]])\n"
     ]
    }
   ],
   "source": [
    "random_tensor = torch.rand(3,5)\n",
    "print(random_tensor)"
   ]
  },
  {
   "cell_type": "markdown",
   "metadata": {},
   "source": [
    "## 2.生成全0和全1的矩阵"
   ]
  },
  {
   "cell_type": "code",
   "execution_count": 4,
   "metadata": {},
   "outputs": [
    {
     "name": "stdout",
     "output_type": "stream",
     "text": [
      "tensor([[0., 0., 0., 0., 0.],\n",
      "        [0., 0., 0., 0., 0.],\n",
      "        [0., 0., 0., 0., 0.]])\n"
     ]
    }
   ],
   "source": [
    "zero_tensor = torch.zeros(3,5)\n",
    "print(zero_tensor)"
   ]
  },
  {
   "cell_type": "code",
   "execution_count": 5,
   "metadata": {},
   "outputs": [
    {
     "name": "stdout",
     "output_type": "stream",
     "text": [
      "tensor([[1., 1., 1., 1., 1.],\n",
      "        [1., 1., 1., 1., 1.],\n",
      "        [1., 1., 1., 1., 1.]])\n"
     ]
    }
   ],
   "source": [
    "ones_tensor = torch.ones(3,5)\n",
    "print(ones_tensor)"
   ]
  },
  {
   "cell_type": "markdown",
   "metadata": {},
   "source": [
    "## 3.根据数据直接创建"
   ]
  },
  {
   "cell_type": "code",
   "execution_count": 6,
   "metadata": {},
   "outputs": [
    {
     "name": "stdout",
     "output_type": "stream",
     "text": [
      "tensor([[1, 2, 3],\n",
      "        [4, 5, 6]])\n"
     ]
    }
   ],
   "source": [
    "list = [[1,2,3],\n",
    "        [4,5,6]]\n",
    "tensor = torch.tensor(list)\n",
    "print(tensor)"
   ]
  },
  {
   "cell_type": "markdown",
   "metadata": {},
   "source": [
    "## 4.Numpy和torch的互相转换"
   ]
  },
  {
   "cell_type": "code",
   "execution_count": 8,
   "metadata": {},
   "outputs": [
    {
     "name": "stdout",
     "output_type": "stream",
     "text": [
      "tensor([[1., 2., 3.],\n",
      "        [4., 5., 6.]])\n"
     ]
    }
   ],
   "source": [
    "import numpy as np\n",
    "array = np.array(list)\n",
    "tensor = torch.from_numpy(array).float()\n",
    "print(tensor)"
   ]
  },
  {
   "cell_type": "code",
   "execution_count": 9,
   "metadata": {},
   "outputs": [
    {
     "name": "stdout",
     "output_type": "stream",
     "text": [
      "[[1. 2. 3.]\n",
      " [4. 5. 6.]]\n"
     ]
    }
   ],
   "source": [
    "array = tensor.numpy()\n",
    "print(array)"
   ]
  },
  {
   "cell_type": "markdown",
   "metadata": {},
   "source": [
    "注意：tensor转成numpy时，两个向量共用内存，一个改变另一个也会改变；numpy转成tensor时使用的时拷贝，不会同时改变。"
   ]
  },
  {
   "cell_type": "markdown",
   "metadata": {},
   "source": [
    "# 手写一个线性回归"
   ]
  },
  {
   "cell_type": "markdown",
   "metadata": {},
   "source": [
    "## 1.如何反向传播和求导"
   ]
  },
  {
   "cell_type": "markdown",
   "metadata": {},
   "source": [
    "所有的神经网络都需要进行梯度的反向传播和求导，在纸上很容易实现，但是在代码上体现并不容易，如果我们想要进行求导这个操作，可以这样做："
   ]
  },
  {
   "cell_type": "code",
   "execution_count": 10,
   "metadata": {},
   "outputs": [
    {
     "name": "stdout",
     "output_type": "stream",
     "text": [
      "y关于x的导数是：tensor([1.])，y进行的操作是：<AddBackward0 object at 0x0000021F774D6C50>\n"
     ]
    }
   ],
   "source": [
    "x = torch.tensor([1.],requires_grad=True)\n",
    "y = x+2\n",
    "y.backward()\n",
    "print('y关于x的导数是：{}，y进行的操作是：{}'.format(x.grad, y.grad_fn))"
   ]
  },
  {
   "cell_type": "markdown",
   "metadata": {},
   "source": [
    "首先，在变量声明时我们需要告诉计算机，这个变量是需要进行梯度追踪的：requires_grad=True。其次需要让因变量进行反向传播：y.backward()。最终，通过变量.grad()求出导数"
   ]
  },
  {
   "cell_type": "markdown",
   "metadata": {},
   "source": [
    "## 2.生成数据集"
   ]
  },
  {
   "cell_type": "markdown",
   "metadata": {},
   "source": [
    "首先生成50个[0,100]内的随机数："
   ]
  },
  {
   "cell_type": "code",
   "execution_count": 14,
   "metadata": {},
   "outputs": [],
   "source": [
    "import random\n",
    "x = []\n",
    "for i in range(50):\n",
    "    x.append(round(random.uniform(0,100), 2))\n",
    "Train_data_x = torch.tensor(x)"
   ]
  },
  {
   "cell_type": "markdown",
   "metadata": {},
   "source": [
    "真实的直线设定为y=2*x+3，根据这条直线再随机加上一些偏差，模拟数据集，并用matploit展示出来："
   ]
  },
  {
   "cell_type": "code",
   "execution_count": 41,
   "metadata": {},
   "outputs": [
    {
     "data": {
      "image/png": "[encoded data removed]",
      "text/plain": [
       "<Figure size 432x288 with 1 Axes>"
      ]
     },
     "metadata": {
      "needs_background": "light"
     },
     "output_type": "display_data"
    }
   ],
   "source": [
    "from matplotlib import pyplot as plt\n",
    "%matplotlib inline\n",
    "true_weight, true_bias = 2, 3\n",
    "label = Train_data_x * true_weight + true_bias\n",
    "label += torch.tensor(10*np.random.random(50)+3)\n",
    "plt.scatter(Train_data_x, label, 10)\n",
    "plt.show()"
   ]
  },
  {
   "cell_type": "markdown",
   "metadata": {},
   "source": [
    "有了torch.tensor类型的输入（Train_data_x）和标签(label)后，我们还需把他们转换成模型能读入的数据类型DalaLoader："
   ]
  },
  {
   "cell_type": "code",
   "execution_count": 42,
   "metadata": {},
   "outputs": [
    {
     "name": "stdout",
     "output_type": "stream",
     "text": [
      "tensor([ 8.9600, 43.2000, 34.3900, 39.9400, 91.3700, 64.8800, 32.5000, 66.9600,\n",
      "         7.3800, 87.8500]) \n",
      " tensor([ 29.9891, 101.3768,  77.6998,  94.2723, 197.4821, 143.0810,  77.5085,\n",
      "        148.4566,  24.6664, 183.2752])\n",
      "tensor([84.9000,  2.5700, 14.7000, 38.8000, 59.0800, 40.0800, 54.5700, 95.5600,\n",
      "        95.8900, 18.3900]) \n",
      " tensor([184.9252,  12.6410,  39.5457,  85.4456, 128.5162,  87.1056, 116.9533,\n",
      "        205.0364, 198.0064,  49.7109])\n",
      "tensor([ 0.4500, 19.7400, 81.3700, 87.4800,  7.3600, 49.2400, 91.6100, 67.8300,\n",
      "        30.7500, 41.5100]) \n",
      " tensor([ 13.1555,  49.4515, 175.4591, 181.5543,  26.9325, 111.0981, 190.4976,\n",
      "        147.0613,  77.2011,  98.6023])\n",
      "tensor([80.4000, 59.6900, 79.5500, 47.6200, 11.7500, 73.2400, 61.0200, 34.9000,\n",
      "        23.6500, 36.1400]) \n",
      " tensor([175.1518, 130.7014, 171.0392, 104.3937,  29.5268, 153.6101, 136.6791,\n",
      "         80.0104,  58.6555,  87.7758])\n",
      "tensor([ 2.9600,  7.5300, 66.4400, 26.7000, 80.1400, 96.0600, 59.3600,  3.3600,\n",
      "        82.5900, 24.5200]) \n",
      " tensor([ 18.6455,  26.1304, 140.3654,  60.1712, 168.5316, 203.4555, 132.3127,\n",
      "         22.1551, 176.0180,  57.7512])\n"
     ]
    }
   ],
   "source": [
    "import torch.utils.data as Data\n",
    "dataset = Data.TensorDataset(Train_data_x, label)\n",
    "dataiter = Data.DataLoader(dataset=dataset,\n",
    "                           batch_size=10,\n",
    "                           shuffle=True,)\n",
    "for x, y in dataiter:\n",
    "    print(x, '\\n', y)"
   ]
  },
  {
   "cell_type": "markdown",
   "metadata": {},
   "source": [
    "## 2.定义自己的网络"
   ]
  },
  {
   "cell_type": "markdown",
   "metadata": {},
   "source": [
    "自定义网络通过torch.nn实现："
   ]
  },
  {
   "cell_type": "code",
   "execution_count": 43,
   "metadata": {},
   "outputs": [
    {
     "name": "stdout",
     "output_type": "stream",
     "text": [
      "Parameter containing:\n",
      "tensor([[0.7037]], requires_grad=True)\n",
      "Parameter containing:\n",
      "tensor([-0.6549], requires_grad=True)\n"
     ]
    }
   ],
   "source": [
    "from torch import nn\n",
    "class LinearNet(nn.Module):\n",
    "    def __init__(self, n_feature):\n",
    "        super(LinearNet, self).__init__()\n",
    "        self.linear = nn.Linear(n_feature, 1)\n",
    "\n",
    "    def forward(self, x):\n",
    "        y = self.linear(x)\n",
    "        return y\n",
    "linear_net = LinearNet(1)\n",
    "print(linear_net.linear.weight)\n",
    "print(linear_net.linear.bias)"
   ]
  },
  {
   "cell_type": "markdown",
   "metadata": {},
   "source": [
    "## 3.定义损失函数及优化方法"
   ]
  },
  {
   "cell_type": "markdown",
   "metadata": {},
   "source": [
    "损失函数用均方误差，优化方法用随机梯度下降："
   ]
  },
  {
   "cell_type": "code",
   "execution_count": 44,
   "metadata": {},
   "outputs": [],
   "source": [
    "import torch.optim as optim\n",
    "loss = nn.MSELoss()\n",
    "optimizer = optim.SGD(linear_net.parameters(), lr=0.00003)"
   ]
  },
  {
   "cell_type": "markdown",
   "metadata": {},
   "source": [
    "## 4.训练"
   ]
  },
  {
   "cell_type": "code",
   "execution_count": 45,
   "metadata": {},
   "outputs": [
    {
     "name": "stdout",
     "output_type": "stream",
     "text": [
      "epoch1, loss:1226.679443359375\n",
      "epoch2, loss:156.35964965820312\n",
      "epoch3, loss:49.32404327392578\n",
      "epoch4, loss:61.44105911254883\n",
      "epoch5, loss:35.276912689208984\n",
      "epoch6, loss:49.68880081176758\n",
      "epoch7, loss:31.92144775390625\n",
      "epoch8, loss:37.58811950683594\n",
      "epoch9, loss:31.979211807250977\n",
      "epoch10, loss:33.45459747314453\n",
      "epoch11, loss:33.64426803588867\n",
      "epoch12, loss:23.567359924316406\n",
      "epoch13, loss:30.947345733642578\n",
      "epoch14, loss:66.07997131347656\n",
      "epoch15, loss:48.456871032714844\n",
      "epoch16, loss:55.4990234375\n",
      "epoch17, loss:25.984577178955078\n",
      "epoch18, loss:56.57416534423828\n",
      "epoch19, loss:45.68144989013672\n",
      "epoch20, loss:35.94047164916992\n",
      "epoch21, loss:49.1015625\n",
      "epoch22, loss:23.511816024780273\n",
      "epoch23, loss:53.051963806152344\n",
      "epoch24, loss:91.90177154541016\n",
      "epoch25, loss:64.89215087890625\n",
      "epoch26, loss:46.8785400390625\n",
      "epoch27, loss:65.24182891845703\n",
      "epoch28, loss:27.638891220092773\n",
      "epoch29, loss:22.36319351196289\n",
      "epoch30, loss:69.99288940429688\n",
      "epoch31, loss:43.51637268066406\n",
      "epoch32, loss:45.49732971191406\n",
      "epoch33, loss:38.034217834472656\n",
      "epoch34, loss:41.756675720214844\n",
      "epoch35, loss:32.37773895263672\n",
      "epoch36, loss:44.249732971191406\n",
      "epoch37, loss:51.75566482543945\n",
      "epoch38, loss:28.279891967773438\n",
      "epoch39, loss:29.787677764892578\n",
      "epoch40, loss:63.5820198059082\n",
      "epoch41, loss:60.962791442871094\n",
      "epoch42, loss:68.0135269165039\n",
      "epoch43, loss:55.39470672607422\n",
      "epoch44, loss:70.2119140625\n",
      "epoch45, loss:55.618263244628906\n",
      "epoch46, loss:30.158340454101562\n",
      "epoch47, loss:32.90534210205078\n",
      "epoch48, loss:60.20615768432617\n",
      "epoch49, loss:58.454505920410156\n",
      "epoch50, loss:67.89179992675781\n",
      "epoch51, loss:49.0363883972168\n",
      "epoch52, loss:52.19520950317383\n",
      "epoch53, loss:55.64522171020508\n",
      "epoch54, loss:81.1318359375\n",
      "epoch55, loss:54.33747482299805\n",
      "epoch56, loss:42.52503204345703\n",
      "epoch57, loss:45.80950164794922\n",
      "epoch58, loss:43.004127502441406\n",
      "epoch59, loss:45.83208465576172\n",
      "epoch60, loss:25.864185333251953\n",
      "epoch61, loss:42.21942138671875\n",
      "epoch62, loss:38.498046875\n",
      "epoch63, loss:46.41193771362305\n",
      "epoch64, loss:71.18397521972656\n",
      "epoch65, loss:70.91951751708984\n",
      "epoch66, loss:61.96559524536133\n",
      "epoch67, loss:35.047019958496094\n",
      "epoch68, loss:62.23299026489258\n",
      "epoch69, loss:26.560138702392578\n",
      "epoch70, loss:68.87805938720703\n",
      "epoch71, loss:65.4384536743164\n",
      "epoch72, loss:46.337791442871094\n",
      "epoch73, loss:73.29252624511719\n",
      "epoch74, loss:29.236114501953125\n",
      "epoch75, loss:74.15379333496094\n",
      "epoch76, loss:37.138885498046875\n",
      "epoch77, loss:42.570899963378906\n",
      "epoch78, loss:83.23355865478516\n",
      "epoch79, loss:59.745460510253906\n",
      "epoch80, loss:44.377708435058594\n",
      "epoch81, loss:42.264923095703125\n",
      "epoch82, loss:45.60871124267578\n",
      "epoch83, loss:39.844520568847656\n",
      "epoch84, loss:26.46062660217285\n",
      "epoch85, loss:30.83670425415039\n",
      "epoch86, loss:28.000015258789062\n",
      "epoch87, loss:38.63774871826172\n",
      "epoch88, loss:33.5980339050293\n",
      "epoch89, loss:59.0872802734375\n",
      "epoch90, loss:48.822044372558594\n",
      "epoch91, loss:15.169660568237305\n",
      "epoch92, loss:54.91112518310547\n",
      "epoch93, loss:69.22380065917969\n",
      "epoch94, loss:43.36426544189453\n",
      "epoch95, loss:34.341697692871094\n",
      "epoch96, loss:36.72136688232422\n",
      "epoch97, loss:28.1162166595459\n",
      "epoch98, loss:34.35126876831055\n",
      "epoch99, loss:76.5392074584961\n",
      "epoch100, loss:55.77052688598633\n"
     ]
    }
   ],
   "source": [
    "for i in range(100):\n",
    "    for input, ground_truth in dataiter:\n",
    "        output = linear_net(input.view(10, -1))\n",
    "        l = loss(output, ground_truth.view(-1,1))\n",
    "        optimizer.zero_grad()\n",
    "        l.backward()\n",
    "        optimizer.step()\n",
    "    print('epoch{}, loss:{}'.format(i+1, l))"
   ]
  },
  {
   "cell_type": "markdown",
   "metadata": {},
   "source": [
    "## 5.结果"
   ]
  },
  {
   "cell_type": "code",
   "execution_count": 46,
   "metadata": {},
   "outputs": [
    {
     "name": "stdout",
     "output_type": "stream",
     "text": [
      "Parameter containing:\n",
      "tensor([[2.1709]], requires_grad=True) Parameter containing:\n",
      "tensor([-0.5341], requires_grad=True)\n"
     ]
    }
   ],
   "source": [
    "print(linear_net.linear.weight, linear_net.linear.bias)"
   ]
  },
  {
   "cell_type": "markdown",
   "metadata": {},
   "source": [
    "weight还行，但是bias不太好，不知道为什么"
   ]
  }
 ],
 "metadata": {
  "kernelspec": {
   "display_name": "Python 3",
   "language": "python",
   "name": "python3"
  },
  "language_info": {
   "codemirror_mode": {
    "name": "ipython",
    "version": 3
   },
   "file_extension": ".py",
   "mimetype": "text/x-python",
   "name": "python",
   "nbconvert_exporter": "python",
   "pygments_lexer": "ipython3",
   "version": "3.7.3"
  }
 },
 "nbformat": 4,
 "nbformat_minor": 2
}
